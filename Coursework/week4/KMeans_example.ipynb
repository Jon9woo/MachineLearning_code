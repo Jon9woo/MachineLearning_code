{
 "cells": [
  {
   "cell_type": "code",
   "execution_count": 1,
   "metadata": {},
   "outputs": [],
   "source": [
    "import pandas as pd\n",
    "import numpy as np"
   ]
  },
  {
   "cell_type": "code",
   "execution_count": 2,
   "metadata": {},
   "outputs": [],
   "source": [
    "data = pd.read_csv('cluster_example_data.csv')\n",
    "X = data.values"
   ]
  },
  {
   "cell_type": "code",
   "execution_count": 3,
   "metadata": {},
   "outputs": [
    {
     "data": {
      "text/plain": [
       "array([[34,  5,  0],\n",
       "       [25,  5,  1],\n",
       "       [30,  2,  2],\n",
       "       [38, 20,  3],\n",
       "       [44, 12,  4],\n",
       "       [48, 18,  5],\n",
       "       [52, 22,  6],\n",
       "       [60, 19,  7],\n",
       "       [34, 18,  8],\n",
       "       [34, 22,  9],\n",
       "       [25, 18, 10],\n",
       "       [25, 15, 11],\n",
       "       [24, 10, 12],\n",
       "       [30,  3, 13],\n",
       "       [40,  3, 14],\n",
       "       [44,  2, 15],\n",
       "       [48,  4, 16],\n",
       "       [52,  4, 17],\n",
       "       [60,  2, 18],\n",
       "       [25,  3, 19],\n",
       "       [52,  4, 20],\n",
       "       [34, 15, 21],\n",
       "       [48,  5, 22],\n",
       "       [44,  8, 23],\n",
       "       [52,  2, 24],\n",
       "       [52, 10, 25]], dtype=int64)"
      ]
     },
     "execution_count": 3,
     "metadata": {},
     "output_type": "execute_result"
    }
   ],
   "source": [
    "X"
   ]
  },
  {
   "cell_type": "code",
   "execution_count": 19,
   "metadata": {},
   "outputs": [],
   "source": [
    "X = X[:,:-1]"
   ]
  },
  {
   "cell_type": "code",
   "execution_count": 20,
   "metadata": {},
   "outputs": [
    {
     "data": {
      "text/plain": [
       "array([[34,  5],\n",
       "       [25,  5],\n",
       "       [30,  2],\n",
       "       [38, 20],\n",
       "       [44, 12],\n",
       "       [48, 18],\n",
       "       [52, 22],\n",
       "       [60, 19],\n",
       "       [34, 18],\n",
       "       [34, 22],\n",
       "       [25, 18],\n",
       "       [25, 15],\n",
       "       [24, 10],\n",
       "       [30,  3],\n",
       "       [40,  3],\n",
       "       [44,  2],\n",
       "       [48,  4],\n",
       "       [52,  4],\n",
       "       [60,  2],\n",
       "       [25,  3],\n",
       "       [52,  4],\n",
       "       [34, 15],\n",
       "       [48,  5],\n",
       "       [44,  8],\n",
       "       [52,  2],\n",
       "       [52, 10]], dtype=int64)"
      ]
     },
     "execution_count": 20,
     "metadata": {},
     "output_type": "execute_result"
    }
   ],
   "source": [
    "X"
   ]
  },
  {
   "cell_type": "code",
   "execution_count": 4,
   "metadata": {},
   "outputs": [],
   "source": [
    "import matplotlib.pyplot as plt"
   ]
  },
  {
   "cell_type": "code",
   "execution_count": 5,
   "metadata": {},
   "outputs": [
    {
     "data": {
      "image/png": "[encoded data removed]",
      "text/plain": [
       "<Figure size 432x288 with 1 Axes>"
      ]
     },
     "metadata": {
      "needs_background": "light"
     },
     "output_type": "display_data"
    }
   ],
   "source": [
    "for V in X:\n",
    "    plt.scatter(V[0],V[1])\n",
    "plt.ylim(0, 30) # 경계 지정하기\n",
    "plt.xlim(20, 70)\n",
    "plt.show()"
   ]
  },
  {
   "cell_type": "code",
   "execution_count": 13,
   "metadata": {},
   "outputs": [],
   "source": [
    "from sklearn.cluster import KMeans\n",
    "NUM_CLUSTERS = 3"
   ]
  },
  {
   "cell_type": "code",
   "execution_count": 14,
   "metadata": {},
   "outputs": [],
   "source": [
    "kmeans = KMeans(n_clusters=NUM_CLUSTERS) # KMeans 알고리즘 생성"
   ]
  },
  {
   "cell_type": "code",
   "execution_count": 15,
   "metadata": {},
   "outputs": [],
   "source": [
    "clusters = kmeans.fit_predict(X)"
   ]
  },
  {
   "cell_type": "code",
   "execution_count": 16,
   "metadata": {},
   "outputs": [
    {
     "data": {
      "text/plain": [
       "array([0, 0, 0, 2, 2, 2, 2, 2, 0, 0, 0, 0, 0, 0, 1, 1, 1, 1, 1, 0, 1, 0,\n",
       "       1, 1, 1, 1])"
      ]
     },
     "execution_count": 16,
     "metadata": {},
     "output_type": "execute_result"
    }
   ],
   "source": [
    "clusters"
   ]
  },
  {
   "cell_type": "code",
   "execution_count": 17,
   "metadata": {},
   "outputs": [],
   "source": [
    "cluster_nums = []\n",
    "for doc_num, cluster_num in enumerate(clusters): \n",
    "    cluster_nums.append(cluster_num)\n"
   ]
  },
  {
   "cell_type": "code",
   "execution_count": 18,
   "metadata": {},
   "outputs": [
    {
     "data": {
      "image/png": "[encoded data removed]",
      "text/plain": [
       "<Figure size 432x288 with 1 Axes>"
      ]
     },
     "metadata": {
      "needs_background": "light"
     },
     "output_type": "display_data"
    }
   ],
   "source": [
    "\n",
    "for k in range(len(X)):\n",
    "    if cluster_nums[k] == 0:\n",
    "        plt.scatter(X[k][0],X[k][1], c='red')\n",
    "    elif cluster_nums[k] == 1:\n",
    "        plt.scatter(X[k][0],X[k][1], c='blue')\n",
    "    elif cluster_nums[k] == 2:\n",
    "        plt.scatter(X[k][0],X[k][1], c='green')\n",
    "    elif cluster_nums[k] == 3:\n",
    "        plt.scatter(X[k][0],X[k][1], c='yellow')\n",
    "plt.ylim(0, 30) # 경계 지정하기\n",
    "plt.xlim(20, 70)\n",
    "plt.show()"
   ]
  },
  {
   "cell_type": "code",
   "execution_count": 12,
   "metadata": {},
   "outputs": [
    {
     "name": "stdout",
     "output_type": "stream",
     "text": [
      "2 0.39325544293886583\n",
      "3 0.425756455547434\n",
      "4 0.408116849659671\n",
      "5 0.4159140584556249\n",
      "6 0.419099168131709\n",
      "7 0.3505351321321197\n"
     ]
    }
   ],
   "source": [
    "from sklearn.metrics import silhouette_score\n",
    "for k in range(2,8):\n",
    "    kmeans = KMeans(n_clusters=k, max_iter=10)\n",
    "    cluster = kmeans.fit_predict(X) \n",
    "    print(k, silhouette_score(X, cluster))"
   ]
  },
  {
   "cell_type": "code",
   "execution_count": 28,
   "metadata": {},
   "outputs": [],
   "source": [
    "from sklearn.preprocessing import normalize"
   ]
  },
  {
   "cell_type": "code",
   "execution_count": 29,
   "metadata": {},
   "outputs": [],
   "source": [
    "X_norm = normalize(X)"
   ]
  },
  {
   "cell_type": "code",
   "execution_count": 92,
   "metadata": {},
   "outputs": [
    {
     "data": {
      "text/plain": [
       "array([[0.98935914, 0.14549399],\n",
       "       [0.98058068, 0.19611614],\n",
       "       [0.99778516, 0.06651901],\n",
       "       [0.88491822, 0.46574643],\n",
       "       [0.98758031, 0.15711505],\n",
       "       [0.93632918, 0.35112344],\n",
       "       [0.92096725, 0.38963999],\n",
       "       [0.95334223, 0.3018917 ],\n",
       "       [0.88378792, 0.46788772],\n",
       "       [0.83957016, 0.54325128],\n",
       "       [0.85749293, 0.51449576],\n",
       "       [0.90545894, 0.42443388],\n",
       "       [0.89442719, 0.4472136 ],\n",
       "       [0.99503719, 0.09950372],\n",
       "       [0.98058068, 0.19611614],\n",
       "       [0.99083017, 0.1351132 ],\n",
       "       [0.99654576, 0.08304548],\n",
       "       [0.99705449, 0.0766965 ],\n",
       "       [0.99944491, 0.03331483],\n",
       "       [0.99287684, 0.11914522],\n",
       "       [0.99705449, 0.0766965 ],\n",
       "       [0.9149178 , 0.40364021],\n",
       "       [0.99461841, 0.10360608],\n",
       "       [0.98386991, 0.17888544],\n",
       "       [0.99926117, 0.03843312],\n",
       "       [0.98200645, 0.18884739]])"
      ]
     },
     "execution_count": 92,
     "metadata": {},
     "output_type": "execute_result"
    }
   ],
   "source": [
    "X_norm"
   ]
  },
  {
   "cell_type": "code",
   "execution_count": 94,
   "metadata": {},
   "outputs": [
    {
     "data": {
      "image/png": "[encoded data removed]",
      "text/plain": [
       "<Figure size 432x288 with 1 Axes>"
      ]
     },
     "metadata": {
      "needs_background": "light"
     },
     "output_type": "display_data"
    }
   ],
   "source": [
    "for V in X_norm:\n",
    "    plt.scatter(V[0],V[1])\n",
    "plt.ylim(0, 2) # 경계 지정하기\n",
    "plt.xlim(0, 2)\n",
    "plt.show()"
   ]
  },
  {
   "cell_type": "code",
   "execution_count": 95,
   "metadata": {},
   "outputs": [],
   "source": [
    "clusters_norm = kmeans.fit_predict(X_norm)"
   ]
  },
  {
   "cell_type": "code",
   "execution_count": 96,
   "metadata": {},
   "outputs": [],
   "source": [
    "cluster_nums = []\n",
    "for doc_num, cluster_num in enumerate(clusters_norm): \n",
    "    cluster_nums.append(cluster_num)"
   ]
  },
  {
   "cell_type": "code",
   "execution_count": 97,
   "metadata": {},
   "outputs": [
    {
     "data": {
      "image/png": "[encoded data removed]",
      "text/plain": [
       "<Figure size 432x288 with 1 Axes>"
      ]
     },
     "metadata": {
      "needs_background": "light"
     },
     "output_type": "display_data"
    }
   ],
   "source": [
    "for k in range(len(X)):\n",
    "    if cluster_nums[k] == 0:\n",
    "        plt.scatter(X[k][0],X[k][1], c='red')\n",
    "    elif cluster_nums[k] == 1:\n",
    "        plt.scatter(X[k][0],X[k][1], c='blue')\n",
    "    elif cluster_nums[k] == 2:\n",
    "        plt.scatter(X[k][0],X[k][1], c='green')\n",
    "    elif cluster_nums[k] == 3:\n",
    "        plt.scatter(X[k][0],X[k][1], c='yellow')\n",
    "plt.ylim(0, 30) # 경계 지정하기\n",
    "plt.xlim(20, 70)\n",
    "plt.show()"
   ]
  },
  {
   "cell_type": "code",
   "execution_count": null,
   "metadata": {},
   "outputs": [],
   "source": []
  }
 ],
 "metadata": {
  "kernelspec": {
   "display_name": "Python 3 (ipykernel)",
   "language": "python",
   "name": "python3"
  },
  "language_info": {
   "codemirror_mode": {
    "name": "ipython",
    "version": 3
   },
   "file_extension": ".py",
   "mimetype": "text/x-python",
   "name": "python",
   "nbconvert_exporter": "python",
   "pygments_lexer": "ipython3",
   "version": "3.8.5"
  }
 },
 "nbformat": 4,
 "nbformat_minor": 2
}

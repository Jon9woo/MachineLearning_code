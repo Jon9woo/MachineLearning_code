{
 "cells": [
  {
   "cell_type": "code",
   "execution_count": 1,
   "metadata": {},
   "outputs": [],
   "source": [
    "import pandas as pd\n",
    "import numpy as np"
   ]
  },
  {
   "cell_type": "code",
   "execution_count": 2,
   "metadata": {},
   "outputs": [],
   "source": [
    "data = pd.read_csv('cluster_example_data.csv')\n",
    "data = data.values"
   ]
  },
  {
   "cell_type": "code",
   "execution_count": 3,
   "metadata": {},
   "outputs": [],
   "source": [
    "X = data[:,:-1]\n",
    "ids = data[:,-1]"
   ]
  },
  {
   "cell_type": "code",
   "execution_count": 4,
   "metadata": {},
   "outputs": [
    {
     "data": {
      "text/plain": [
       "array([[34,  5],\n",
       "       [25,  5],\n",
       "       [30,  2],\n",
       "       [38, 20],\n",
       "       [44, 12],\n",
       "       [48, 18],\n",
       "       [52, 22],\n",
       "       [60, 19],\n",
       "       [34, 18],\n",
       "       [34, 22],\n",
       "       [25, 18],\n",
       "       [25, 15],\n",
       "       [24, 10],\n",
       "       [30,  3],\n",
       "       [40,  3],\n",
       "       [44,  2],\n",
       "       [48,  4],\n",
       "       [52,  4],\n",
       "       [60,  2],\n",
       "       [25,  3],\n",
       "       [52,  4],\n",
       "       [34, 15],\n",
       "       [48,  5],\n",
       "       [44,  8],\n",
       "       [52,  2],\n",
       "       [52, 10]], dtype=int64)"
      ]
     },
     "execution_count": 4,
     "metadata": {},
     "output_type": "execute_result"
    }
   ],
   "source": [
    "X"
   ]
  },
  {
   "cell_type": "code",
   "execution_count": 12,
   "metadata": {},
   "outputs": [],
   "source": [
    "import matplotlib.pyplot as plt"
   ]
  },
  {
   "cell_type": "code",
   "execution_count": 13,
   "metadata": {},
   "outputs": [
    {
     "data": {
      "image/png": "[encoded data removed]",
      "text/plain": [
       "<Figure size 432x288 with 1 Axes>"
      ]
     },
     "metadata": {
      "needs_background": "light"
     },
     "output_type": "display_data"
    }
   ],
   "source": [
    "for V in X:\n",
    "    plt.scatter(V[0],V[1])\n",
    "plt.ylim(0, 30) # 경계 지정하기\n",
    "plt.xlim(20, 70)\n",
    "plt.show()"
   ]
  },
  {
   "cell_type": "code",
   "execution_count": 5,
   "metadata": {},
   "outputs": [],
   "source": [
    "from sklearn.cluster import DBSCAN"
   ]
  },
  {
   "cell_type": "code",
   "execution_count": 34,
   "metadata": {},
   "outputs": [],
   "source": [
    "clustering = DBSCAN(eps=3.5, min_samples=2).fit(X)"
   ]
  },
  {
   "cell_type": "code",
   "execution_count": 35,
   "metadata": {},
   "outputs": [
    {
     "data": {
      "text/plain": [
       "array([-1,  0,  1, -1, -1, -1, -1, -1,  2, -1,  3,  3, -1,  1, -1, -1,  4,\n",
       "        5, -1,  0,  5,  2,  4, -1,  5, -1], dtype=int64)"
      ]
     },
     "execution_count": 35,
     "metadata": {},
     "output_type": "execute_result"
    }
   ],
   "source": [
    "clustering.labels_"
   ]
  },
  {
   "cell_type": "code",
   "execution_count": 36,
   "metadata": {},
   "outputs": [
    {
     "data": {
      "image/png": "[encoded data removed]",
      "text/plain": [
       "<Figure size 432x288 with 1 Axes>"
      ]
     },
     "metadata": {
      "needs_background": "light"
     },
     "output_type": "display_data"
    }
   ],
   "source": [
    "cluster_nums = []\n",
    "for doc_num, cluster_num in enumerate(clustering.labels_): \n",
    "    cluster_nums.append(cluster_num)\n",
    "#     print(ids[doc_num], cluster_num)\n",
    "for k in range(len(ids)):\n",
    "    if cluster_nums[k] == 0:\n",
    "        plt.scatter(X[k][0],X[k][1], c='red')\n",
    "    elif cluster_nums[k] == 1:\n",
    "        plt.scatter(X[k][0],X[k][1], c='blue')\n",
    "    elif cluster_nums[k] == 2:\n",
    "        plt.scatter(X[k][0],X[k][1], c='green')\n",
    "    elif cluster_nums[k] == 3:\n",
    "        plt.scatter(X[k][0],X[k][1], c='yellow')\n",
    "    elif cluster_nums[k] == 4: \n",
    "        plt.scatter(X[k][0],X[k][1], c='orange')\n",
    "    elif cluster_nums[k] == 5: \n",
    "        plt.scatter(X[k][0],X[k][1], c='pink')\n",
    "    else:\n",
    "        plt.scatter(X[k][0],X[k][1], c='black')\n",
    "plt.ylim(0, 30) # 경계 지정하기\n",
    "plt.xlim(20, 70)\n",
    "plt.show()"
   ]
  },
  {
   "cell_type": "code",
   "execution_count": 22,
   "metadata": {
    "collapsed": true
   },
   "outputs": [],
   "source": [
    "# get distance with nearest neighbor\n",
    "def nearest_dist(a):\n",
    "    norms = []\n",
    "    for i in range(len(a)):\n",
    "        temp_norms = []\n",
    "        for j in range(len(a)):\n",
    "            if i != j:\n",
    "                norm = np.linalg.norm(a[i]-a[j])\n",
    "                temp_norms.append(norm)\n",
    "        norms.append(min(temp_norms))\n",
    "    return norms"
   ]
  },
  {
   "cell_type": "code",
   "execution_count": 23,
   "metadata": {
    "collapsed": true
   },
   "outputs": [],
   "source": [
    "find_epsilon = nearest_dist(X)"
   ]
  },
  {
   "cell_type": "code",
   "execution_count": 24,
   "metadata": {},
   "outputs": [
    {
     "data": {
      "text/plain": [
       "3.467200573812675"
      ]
     },
     "execution_count": 24,
     "metadata": {},
     "output_type": "execute_result"
    }
   ],
   "source": [
    "np.array(find_epsilon).mean()"
   ]
  },
  {
   "cell_type": "code",
   "execution_count": 38,
   "metadata": {},
   "outputs": [],
   "source": [
    "clustering1 = DBSCAN(eps=3.5, min_samples=2).fit(X)"
   ]
  },
  {
   "cell_type": "code",
   "execution_count": 39,
   "metadata": {},
   "outputs": [
    {
     "data": {
      "text/plain": [
       "array([-1,  0,  1, -1, -1, -1, -1, -1,  2, -1,  3,  3, -1,  1, -1, -1,  4,\n",
       "        5, -1,  0,  5,  2,  4, -1,  5, -1], dtype=int64)"
      ]
     },
     "execution_count": 39,
     "metadata": {},
     "output_type": "execute_result"
    }
   ],
   "source": [
    "clustering1.labels_"
   ]
  },
  {
   "cell_type": "code",
   "execution_count": 40,
   "metadata": {},
   "outputs": [
    {
     "data": {
      "image/png": "[encoded data removed]",
      "text/plain": [
       "<Figure size 432x288 with 1 Axes>"
      ]
     },
     "metadata": {
      "needs_background": "light"
     },
     "output_type": "display_data"
    }
   ],
   "source": [
    "cluster_nums = []\n",
    "for doc_num, cluster_num in enumerate(clustering1.labels_): \n",
    "    cluster_nums.append(cluster_num)\n",
    "#     print(ids[doc_num], cluster_num)\n",
    "for k in range(len(ids)):\n",
    "    if cluster_nums[k] == 0:\n",
    "        plt.scatter(X[k][0],X[k][1], c='red')\n",
    "    elif cluster_nums[k] == 1:\n",
    "        plt.scatter(X[k][0],X[k][1], c='blue')\n",
    "    elif cluster_nums[k] == 2:\n",
    "        plt.scatter(X[k][0],X[k][1], c='green')\n",
    "    elif cluster_nums[k] == 3:\n",
    "        plt.scatter(X[k][0],X[k][1], c='yellow')\n",
    "    elif cluster_nums[k] == 4: \n",
    "        plt.scatter(X[k][0],X[k][1], c='orange')\n",
    "    elif cluster_nums[k] == 5: \n",
    "        plt.scatter(X[k][0],X[k][1], c='pink')\n",
    "    else:\n",
    "        plt.scatter(X[k][0],X[k][1], c='black')\n",
    "plt.ylim(0, 30) # 경계 지정하기\n",
    "plt.xlim(20, 70)\n",
    "plt.show()"
   ]
  },
  {
   "cell_type": "markdown",
   "metadata": {},
   "source": [
    "# Cosine 사용하기"
   ]
  },
  {
   "cell_type": "code",
   "execution_count": 45,
   "metadata": {},
   "outputs": [],
   "source": [
    "clustering1 = DBSCAN(eps=0.001, min_samples=2, metric='cosine').fit(X)\n",
    "# epsilon 의 값을 기준으로 연결이 된다는 것을 기억\n",
    "# cosine distance = 1 - cosine similarity"
   ]
  },
  {
   "cell_type": "code",
   "execution_count": 46,
   "metadata": {},
   "outputs": [
    {
     "data": {
      "text/plain": [
       "array([ 0,  0,  0,  1,  2,  3,  3,  2,  1,  4, -1,  4,  3,  0,  0,  0,  0,\n",
       "        0,  0,  0,  0,  3,  0,  0,  0,  0], dtype=int64)"
      ]
     },
     "execution_count": 46,
     "metadata": {},
     "output_type": "execute_result"
    }
   ],
   "source": [
    "clustering1.labels_"
   ]
  },
  {
   "cell_type": "code",
   "execution_count": 47,
   "metadata": {},
   "outputs": [],
   "source": [
    "cluster_nums = []\n",
    "for doc_num, cluster_num in enumerate(clustering1.labels_): \n",
    "    cluster_nums.append(cluster_num)\n",
    "#     print(ids[doc_num], cluster_num)"
   ]
  },
  {
   "cell_type": "code",
   "execution_count": 48,
   "metadata": {},
   "outputs": [
    {
     "data": {
      "image/png": "[encoded data removed]",
      "text/plain": [
       "<Figure size 432x288 with 1 Axes>"
      ]
     },
     "metadata": {
      "needs_background": "light"
     },
     "output_type": "display_data"
    }
   ],
   "source": [
    "for k in range(len(ids)):\n",
    "    if cluster_nums[k] == 0:\n",
    "        plt.scatter(X[k][0],X[k][1], c='red')\n",
    "    elif cluster_nums[k] == 1:\n",
    "        plt.scatter(X[k][0],X[k][1], c='blue')\n",
    "    elif cluster_nums[k] == 2:\n",
    "        plt.scatter(X[k][0],X[k][1], c='green')\n",
    "    elif cluster_nums[k] == 3:\n",
    "        plt.scatter(X[k][0],X[k][1], c='yellow')\n",
    "    elif cluster_nums[k] == 4: \n",
    "        plt.scatter(X[k][0],X[k][1], c='orange')\n",
    "    elif cluster_nums[k] == 5: \n",
    "        plt.scatter(X[k][0],X[k][1], c='pink')\n",
    "    else:\n",
    "        plt.scatter(X[k][0],X[k][1], c='black')\n",
    "plt.ylim(0, 30) # 경계 지정하기\n",
    "plt.xlim(20, 70)\n",
    "plt.show()"
   ]
  },
  {
   "cell_type": "code",
   "execution_count": 18,
   "metadata": {
    "collapsed": true
   },
   "outputs": [],
   "source": [
    "from sklearn.preprocessing import StandardScaler"
   ]
  },
  {
   "cell_type": "code",
   "execution_count": 19,
   "metadata": {},
   "outputs": [],
   "source": [
    "X1 = StandardScaler().fit_transform(X)"
   ]
  },
  {
   "cell_type": "code",
   "execution_count": 20,
   "metadata": {
    "collapsed": true
   },
   "outputs": [],
   "source": [
    "clustering2 = DBSCAN(eps=0.1, min_samples=2, metric='cosine').fit(X1)"
   ]
  },
  {
   "cell_type": "code",
   "execution_count": 21,
   "metadata": {},
   "outputs": [
    {
     "data": {
      "text/plain": [
       "array([ 0,  0,  0,  1,  2,  2,  2,  2,  1,  1,  1,  1, -1,  0,  3,  3,  3,\n",
       "        3,  3,  0,  3,  1,  3,  3,  3, -1], dtype=int64)"
      ]
     },
     "execution_count": 21,
     "metadata": {},
     "output_type": "execute_result"
    }
   ],
   "source": [
    "clustering2.labels_"
   ]
  },
  {
   "cell_type": "code",
   "execution_count": 22,
   "metadata": {},
   "outputs": [
    {
     "data": {
      "image/png": "[encoded data removed]",
      "text/plain": [
       "<Figure size 432x288 with 1 Axes>"
      ]
     },
     "metadata": {},
     "output_type": "display_data"
    }
   ],
   "source": [
    "cluster_nums = []\n",
    "for doc_num, cluster_num in enumerate(clustering2.labels_): \n",
    "    cluster_nums.append(cluster_num)\n",
    "for k in range(len(ids)):\n",
    "    if cluster_nums[k] == 0:\n",
    "        plt.scatter(X[k][0],X[k][1], c='red')\n",
    "    elif cluster_nums[k] == 1:\n",
    "        plt.scatter(X[k][0],X[k][1], c='blue')\n",
    "    elif cluster_nums[k] == 2:\n",
    "        plt.scatter(X[k][0],X[k][1], c='green')\n",
    "    elif cluster_nums[k] == 3:\n",
    "        plt.scatter(X[k][0],X[k][1], c='yellow')\n",
    "    elif cluster_nums[k] == 4: \n",
    "        plt.scatter(X[k][0],X[k][1], c='orange')\n",
    "    elif cluster_nums[k] == 5: \n",
    "        plt.scatter(X[k][0],X[k][1], c='pink')\n",
    "    else:\n",
    "        plt.scatter(X[k][0],X[k][1], c='black')\n",
    "plt.ylim(0, 30) # 경계 지정하기\n",
    "plt.xlim(20, 70)\n",
    "plt.show()"
   ]
  },
  {
   "cell_type": "code",
   "execution_count": null,
   "metadata": {
    "collapsed": true
   },
   "outputs": [],
   "source": []
  }
 ],
 "metadata": {
  "kernelspec": {
   "display_name": "Python 3 (ipykernel)",
   "language": "python",
   "name": "python3"
  },
  "language_info": {
   "codemirror_mode": {
    "name": "ipython",
    "version": 3
   },
   "file_extension": ".py",
   "mimetype": "text/x-python",
   "name": "python",
   "nbconvert_exporter": "python",
   "pygments_lexer": "ipython3",
   "version": "3.8.5"
  }
 },
 "nbformat": 4,
 "nbformat_minor": 2
}

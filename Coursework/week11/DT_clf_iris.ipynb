{
 "cells": [
  {
   "cell_type": "code",
   "execution_count": 1,
   "metadata": {},
   "outputs": [],
   "source": [
    "import pandas as pd\n",
    "import numpy as np"
   ]
  },
  {
   "cell_type": "code",
   "execution_count": 2,
   "metadata": {},
   "outputs": [],
   "source": [
    "data = pd.read_csv('iris_short.csv')\n",
    "data_np = data.values"
   ]
  },
  {
   "cell_type": "code",
   "execution_count": 3,
   "metadata": {},
   "outputs": [
    {
     "data": {
      "text/html": [
       "<div>\n",
       "<style scoped>\n",
       "    .dataframe tbody tr th:only-of-type {\n",
       "        vertical-align: middle;\n",
       "    }\n",
       "\n",
       "    .dataframe tbody tr th {\n",
       "        vertical-align: top;\n",
       "    }\n",
       "\n",
       "    .dataframe thead th {\n",
       "        text-align: right;\n",
       "    }\n",
       "</style>\n",
       "<table border=\"1\" class=\"dataframe\">\n",
       "  <thead>\n",
       "    <tr style=\"text-align: right;\">\n",
       "      <th></th>\n",
       "      <th>sepal_length</th>\n",
       "      <th>sepal_width</th>\n",
       "      <th>petal_length</th>\n",
       "      <th>petal_width</th>\n",
       "      <th>species</th>\n",
       "    </tr>\n",
       "  </thead>\n",
       "  <tbody>\n",
       "    <tr>\n",
       "      <th>0</th>\n",
       "      <td>7.0</td>\n",
       "      <td>3.2</td>\n",
       "      <td>4.7</td>\n",
       "      <td>1.4</td>\n",
       "      <td>versicolor</td>\n",
       "    </tr>\n",
       "    <tr>\n",
       "      <th>1</th>\n",
       "      <td>6.4</td>\n",
       "      <td>3.2</td>\n",
       "      <td>4.5</td>\n",
       "      <td>1.5</td>\n",
       "      <td>versicolor</td>\n",
       "    </tr>\n",
       "    <tr>\n",
       "      <th>2</th>\n",
       "      <td>6.9</td>\n",
       "      <td>3.1</td>\n",
       "      <td>4.9</td>\n",
       "      <td>1.5</td>\n",
       "      <td>versicolor</td>\n",
       "    </tr>\n",
       "    <tr>\n",
       "      <th>3</th>\n",
       "      <td>5.5</td>\n",
       "      <td>2.3</td>\n",
       "      <td>4.0</td>\n",
       "      <td>1.3</td>\n",
       "      <td>versicolor</td>\n",
       "    </tr>\n",
       "    <tr>\n",
       "      <th>4</th>\n",
       "      <td>6.5</td>\n",
       "      <td>2.8</td>\n",
       "      <td>4.6</td>\n",
       "      <td>1.5</td>\n",
       "      <td>versicolor</td>\n",
       "    </tr>\n",
       "  </tbody>\n",
       "</table>\n",
       "</div>"
      ],
      "text/plain": [
       "   sepal_length  sepal_width  petal_length  petal_width     species\n",
       "0           7.0          3.2           4.7          1.4  versicolor\n",
       "1           6.4          3.2           4.5          1.5  versicolor\n",
       "2           6.9          3.1           4.9          1.5  versicolor\n",
       "3           5.5          2.3           4.0          1.3  versicolor\n",
       "4           6.5          2.8           4.6          1.5  versicolor"
      ]
     },
     "execution_count": 3,
     "metadata": {},
     "output_type": "execute_result"
    }
   ],
   "source": [
    "data.head()"
   ]
  },
  {
   "cell_type": "code",
   "execution_count": 4,
   "metadata": {},
   "outputs": [],
   "source": [
    "np.random.shuffle(data_np)"
   ]
  },
  {
   "cell_type": "code",
   "execution_count": 5,
   "metadata": {},
   "outputs": [],
   "source": [
    "X = data_np[:,2:-1]"
   ]
  },
  {
   "cell_type": "code",
   "execution_count": 6,
   "metadata": {},
   "outputs": [
    {
     "data": {
      "text/plain": [
       "array([[5.3, 1.9],\n",
       "       [4.5, 1.7],\n",
       "       [5.1, 1.8],\n",
       "       [4.4, 1.2],\n",
       "       [3.8, 1.1],\n",
       "       [4.1, 1.3],\n",
       "       [4.1, 1.3],\n",
       "       [5.6, 2.4],\n",
       "       [5.9, 2.1],\n",
       "       [5.8, 2.2],\n",
       "       [5.7, 2.5],\n",
       "       [4.4, 1.4],\n",
       "       [5.0, 1.5],\n",
       "       [4.9, 2.0],\n",
       "       [4.3, 1.3],\n",
       "       [5.1, 2.0],\n",
       "       [4.4, 1.3],\n",
       "       [5.4, 2.1],\n",
       "       [4.1, 1.0],\n",
       "       [4.0, 1.3],\n",
       "       [5.1, 1.9],\n",
       "       [3.9, 1.2],\n",
       "       [4.8, 1.8],\n",
       "       [5.0, 2.0],\n",
       "       [4.0, 1.3],\n",
       "       [4.5, 1.5],\n",
       "       [4.7, 1.2],\n",
       "       [3.6, 1.3],\n",
       "       [6.1, 1.9],\n",
       "       [5.4, 2.3],\n",
       "       [6.3, 1.8],\n",
       "       [5.5, 1.8],\n",
       "       [6.7, 2.0],\n",
       "       [4.8, 1.8],\n",
       "       [3.9, 1.4],\n",
       "       [5.5, 2.1],\n",
       "       [4.5, 1.3],\n",
       "       [5.3, 2.3],\n",
       "       [4.9, 1.5],\n",
       "       [4.5, 1.5],\n",
       "       [4.2, 1.3],\n",
       "       [5.1, 1.5],\n",
       "       [5.0, 1.9],\n",
       "       [5.8, 1.6],\n",
       "       [4.5, 1.5],\n",
       "       [5.5, 1.8],\n",
       "       [5.1, 1.9],\n",
       "       [5.1, 2.4],\n",
       "       [3.5, 1.0],\n",
       "       [6.7, 2.2],\n",
       "       [6.0, 2.5],\n",
       "       [4.6, 1.3],\n",
       "       [4.3, 1.3],\n",
       "       [3.7, 1.0],\n",
       "       [4.2, 1.2],\n",
       "       [4.5, 1.5],\n",
       "       [5.0, 1.7],\n",
       "       [4.8, 1.8],\n",
       "       [6.4, 2.0],\n",
       "       [4.9, 1.8],\n",
       "       [4.9, 1.5],\n",
       "       [5.1, 2.3],\n",
       "       [3.3, 1.0],\n",
       "       [4.7, 1.4],\n",
       "       [3.3, 1.0],\n",
       "       [5.2, 2.0],\n",
       "       [5.2, 2.3],\n",
       "       [5.9, 2.3],\n",
       "       [5.6, 1.4],\n",
       "       [6.1, 2.5],\n",
       "       [5.6, 1.8],\n",
       "       [6.1, 2.3],\n",
       "       [5.6, 2.4],\n",
       "       [6.9, 2.3],\n",
       "       [4.5, 1.6],\n",
       "       [6.6, 2.1],\n",
       "       [4.7, 1.6],\n",
       "       [4.8, 1.4],\n",
       "       [4.2, 1.5],\n",
       "       [5.8, 1.8],\n",
       "       [4.2, 1.3],\n",
       "       [4.4, 1.4],\n",
       "       [4.7, 1.4],\n",
       "       [5.6, 2.2],\n",
       "       [4.6, 1.5],\n",
       "       [4.0, 1.0],\n",
       "       [4.7, 1.5],\n",
       "       [5.6, 2.1],\n",
       "       [6.0, 1.8],\n",
       "       [3.9, 1.1],\n",
       "       [5.7, 2.3],\n",
       "       [4.9, 1.8],\n",
       "       [3.5, 1.0],\n",
       "       [3.0, 1.1],\n",
       "       [4.0, 1.3],\n",
       "       [5.7, 2.1],\n",
       "       [4.6, 1.4],\n",
       "       [4.0, 1.2],\n",
       "       [5.1, 1.6],\n",
       "       [4.5, 1.5]], dtype=object)"
      ]
     },
     "execution_count": 6,
     "metadata": {},
     "output_type": "execute_result"
    }
   ],
   "source": [
    "X"
   ]
  },
  {
   "cell_type": "code",
   "execution_count": 7,
   "metadata": {},
   "outputs": [],
   "source": [
    "y = data_np[:,-1]"
   ]
  },
  {
   "cell_type": "code",
   "execution_count": 8,
   "metadata": {},
   "outputs": [
    {
     "data": {
      "text/plain": [
       "array(['virginica', 'virginica', 'virginica', 'versicolor', 'versicolor',\n",
       "       'versicolor', 'versicolor', 'virginica', 'versicolor',\n",
       "       'versicolor', 'versicolor', 'versicolor', 'virginica', 'virginica',\n",
       "       'versicolor', 'virginica', 'virginica', 'versicolor', 'versicolor',\n",
       "       'versicolor', 'virginica', 'virginica', 'virginica', 'virginica',\n",
       "       'virginica', 'versicolor', 'versicolor', 'virginica', 'versicolor',\n",
       "       'virginica', 'virginica', 'versicolor', 'virginica', 'virginica',\n",
       "       'virginica', 'virginica', 'versicolor', 'virginica', 'versicolor',\n",
       "       'versicolor', 'virginica', 'virginica', 'versicolor', 'versicolor',\n",
       "       'versicolor', 'versicolor', 'virginica', 'virginica', 'virginica',\n",
       "       'versicolor', 'versicolor', 'virginica', 'versicolor',\n",
       "       'versicolor', 'virginica', 'versicolor', 'versicolor', 'virginica',\n",
       "       'virginica', 'virginica', 'virginica', 'virginica', 'virginica',\n",
       "       'virginica', 'versicolor', 'virginica', 'versicolor', 'versicolor',\n",
       "       'versicolor', 'versicolor', 'virginica', 'virginica', 'versicolor',\n",
       "       'versicolor', 'virginica', 'versicolor', 'versicolor', 'virginica',\n",
       "       'versicolor', 'versicolor', 'versicolor', 'versicolor',\n",
       "       'versicolor', 'virginica', 'virginica', 'versicolor', 'virginica',\n",
       "       'versicolor', 'virginica', 'virginica', 'versicolor', 'virginica',\n",
       "       'virginica', 'virginica', 'versicolor', 'versicolor', 'versicolor',\n",
       "       'virginica', 'versicolor', 'virginica'], dtype=object)"
      ]
     },
     "execution_count": 8,
     "metadata": {},
     "output_type": "execute_result"
    }
   ],
   "source": [
    "y"
   ]
  },
  {
   "cell_type": "code",
   "execution_count": 8,
   "metadata": {},
   "outputs": [],
   "source": [
    "from sklearn import preprocessing\n",
    "le = preprocessing.LabelEncoder() # categorical 변수의 값을 숫자로 변환하는데 사용\n",
    "input_classes =['versicolor','virginica']\n",
    "le.fit(input_classes)\n",
    "y = le.transform(y)"
   ]
  },
  {
   "cell_type": "code",
   "execution_count": 9,
   "metadata": {},
   "outputs": [
    {
     "data": {
      "text/plain": [
       "array([1, 1, 1, 0, 0, 0, 0, 1, 1, 1, 1, 0, 1, 1, 0, 1, 0, 1, 0, 0, 1, 0,\n",
       "       1, 1, 0, 0, 0, 0, 1, 1, 1, 1, 1, 0, 0, 1, 0, 1, 0, 0, 0, 1, 1, 1,\n",
       "       0, 1, 1, 1, 0, 1, 1, 0, 0, 0, 0, 0, 0, 1, 1, 1, 0, 1, 0, 0, 0, 1,\n",
       "       1, 1, 1, 1, 1, 1, 1, 1, 0, 1, 0, 0, 0, 1, 0, 0, 0, 1, 0, 0, 0, 1,\n",
       "       1, 0, 1, 1, 0, 0, 0, 1, 0, 0, 0, 0])"
      ]
     },
     "execution_count": 9,
     "metadata": {},
     "output_type": "execute_result"
    }
   ],
   "source": [
    "y"
   ]
  },
  {
   "cell_type": "code",
   "execution_count": 12,
   "metadata": {},
   "outputs": [],
   "source": [
    "from sklearn.model_selection import train_test_split\n",
    "X_train, X_test, y_train, y_test = train_test_split(X, y, test_size = 0.3, random_state=0)"
   ]
  },
  {
   "cell_type": "code",
   "execution_count": 13,
   "metadata": {},
   "outputs": [],
   "source": [
    "from sklearn.tree import DecisionTreeClassifier\n",
    "tree_clf=DecisionTreeClassifier(max_depth=2)"
   ]
  },
  {
   "cell_type": "code",
   "execution_count": 14,
   "metadata": {},
   "outputs": [
    {
     "data": {
      "text/plain": [
       "DecisionTreeClassifier(max_depth=2)"
      ]
     },
     "execution_count": 14,
     "metadata": {},
     "output_type": "execute_result"
    }
   ],
   "source": [
    "tree_clf.fit(X_train, y_train)"
   ]
  },
  {
   "cell_type": "code",
   "execution_count": 15,
   "metadata": {},
   "outputs": [
    {
     "data": {
      "text/plain": [
       "0.9666666666666667"
      ]
     },
     "execution_count": 15,
     "metadata": {},
     "output_type": "execute_result"
    }
   ],
   "source": [
    "tree_clf.score(X_test, y_test)"
   ]
  },
  {
   "cell_type": "markdown",
   "metadata": {},
   "source": [
    "## 시각화"
   ]
  },
  {
   "cell_type": "markdown",
   "metadata": {},
   "source": [
    "1) using plot_tree from sklearn"
   ]
  },
  {
   "cell_type": "code",
   "execution_count": 16,
   "metadata": {},
   "outputs": [
    {
     "data": {
      "image/png": "[encoded data removed]",
      "text/plain": [
       "<Figure size 900x900 with 1 Axes>"
      ]
     },
     "metadata": {
      "needs_background": "light"
     },
     "output_type": "display_data"
    }
   ],
   "source": [
    "from sklearn import tree\n",
    "import matplotlib.pyplot as plt\n",
    "\n",
    "fig, axes = plt.subplots(nrows = 1,ncols = 1,figsize = (3,3), dpi=300)\n",
    "tree.plot_tree(tree_clf)\n",
    "plt.show()\n",
    "fig.savefig('tree.png')"
   ]
  },
  {
   "cell_type": "markdown",
   "metadata": {},
   "source": [
    "## 새로운 값 예측"
   ]
  },
  {
   "cell_type": "code",
   "execution_count": 17,
   "metadata": {},
   "outputs": [
    {
     "data": {
      "text/plain": [
       "array([[0.4, 0.6]])"
      ]
     },
     "execution_count": 17,
     "metadata": {},
     "output_type": "execute_result"
    }
   ],
   "source": [
    "tree_clf.predict_proba([[5, 1.5]])"
   ]
  },
  {
   "cell_type": "code",
   "execution_count": 18,
   "metadata": {},
   "outputs": [
    {
     "data": {
      "text/plain": [
       "array([1])"
      ]
     },
     "execution_count": 18,
     "metadata": {},
     "output_type": "execute_result"
    }
   ],
   "source": [
    "tree_clf.predict([[5, 1.5]])"
   ]
  },
  {
   "cell_type": "markdown",
   "metadata": {
    "collapsed": true
   },
   "source": [
    "## Grid Search 사용하기"
   ]
  },
  {
   "cell_type": "code",
   "execution_count": 19,
   "metadata": {},
   "outputs": [],
   "source": [
    "tree_clf1=DecisionTreeClassifier(criterion = 'gini')"
   ]
  },
  {
   "cell_type": "code",
   "execution_count": 20,
   "metadata": {},
   "outputs": [],
   "source": [
    "from sklearn.model_selection import GridSearchCV\n",
    "tree_params = {\n",
    "    'max_depth' : [2,3,4,5],\n",
    "     'min_samples_split':[2,5,10,15]\n",
    "}"
   ]
  },
  {
   "cell_type": "code",
   "execution_count": 21,
   "metadata": {},
   "outputs": [
    {
     "data": {
      "text/plain": [
       "GridSearchCV(estimator=DecisionTreeClassifier(),\n",
       "             param_grid={'max_depth': [2, 3, 4, 5],\n",
       "                         'min_samples_split': [2, 5, 10, 15]})"
      ]
     },
     "execution_count": 21,
     "metadata": {},
     "output_type": "execute_result"
    }
   ],
   "source": [
    "grid_search = GridSearchCV(tree_clf1, param_grid=tree_params)\n",
    "grid_search.fit(X_train, y_train)"
   ]
  },
  {
   "cell_type": "code",
   "execution_count": 22,
   "metadata": {},
   "outputs": [
    {
     "data": {
      "text/plain": [
       "{'max_depth': 2, 'min_samples_split': 2}"
      ]
     },
     "execution_count": 22,
     "metadata": {},
     "output_type": "execute_result"
    }
   ],
   "source": [
    "grid_search.best_params_\n",
    "# Best hyperparameter의 값들을 return 합니다."
   ]
  },
  {
   "cell_type": "code",
   "execution_count": 23,
   "metadata": {},
   "outputs": [],
   "source": [
    "best_model = grid_search.best_estimator_\n",
    "# Best estimator (모형)을 return합니다. \n",
    "y_preds = best_model.predict(X_test)"
   ]
  },
  {
   "cell_type": "code",
   "execution_count": 24,
   "metadata": {},
   "outputs": [
    {
     "data": {
      "text/plain": [
       "0.9666666666666667"
      ]
     },
     "execution_count": 24,
     "metadata": {},
     "output_type": "execute_result"
    }
   ],
   "source": [
    "from sklearn.metrics import accuracy_score\n",
    "accuracy_score(y_test, y_preds)"
   ]
  },
  {
   "cell_type": "code",
   "execution_count": 25,
   "metadata": {},
   "outputs": [
    {
     "data": {
      "text/plain": [
       "0.9666666666666667"
      ]
     },
     "execution_count": 25,
     "metadata": {},
     "output_type": "execute_result"
    }
   ],
   "source": [
    "best_model.score(X_test, y_test)"
   ]
  },
  {
   "cell_type": "code",
   "execution_count": null,
   "metadata": {
    "collapsed": true
   },
   "outputs": [],
   "source": []
  }
 ],
 "metadata": {
  "kernelspec": {
   "display_name": "Python 3 (ipykernel)",
   "language": "python",
   "name": "python3"
  },
  "language_info": {
   "codemirror_mode": {
    "name": "ipython",
    "version": 3
   },
   "file_extension": ".py",
   "mimetype": "text/x-python",
   "name": "python",
   "nbconvert_exporter": "python",
   "pygments_lexer": "ipython3",
   "version": "3.8.5"
  }
 },
 "nbformat": 4,
 "nbformat_minor": 2
}

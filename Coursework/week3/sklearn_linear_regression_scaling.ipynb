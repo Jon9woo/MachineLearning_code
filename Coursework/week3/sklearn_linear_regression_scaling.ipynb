{
 "cells": [
  {
   "cell_type": "code",
   "execution_count": 1,
   "metadata": {},
   "outputs": [],
   "source": [
    "import numpy as np\n",
    "import pandas as pd"
   ]
  },
  {
   "cell_type": "code",
   "execution_count": 2,
   "metadata": {},
   "outputs": [],
   "source": [
    "data = pd.read_csv('training_test_data.csv')"
   ]
  },
  {
   "cell_type": "code",
   "execution_count": 3,
   "metadata": {},
   "outputs": [
    {
     "data": {
      "text/html": [
       "<div>\n",
       "<style scoped>\n",
       "    .dataframe tbody tr th:only-of-type {\n",
       "        vertical-align: middle;\n",
       "    }\n",
       "\n",
       "    .dataframe tbody tr th {\n",
       "        vertical-align: top;\n",
       "    }\n",
       "\n",
       "    .dataframe thead th {\n",
       "        text-align: right;\n",
       "    }\n",
       "</style>\n",
       "<table border=\"1\" class=\"dataframe\">\n",
       "  <thead>\n",
       "    <tr style=\"text-align: right;\">\n",
       "      <th></th>\n",
       "      <th>Age</th>\n",
       "      <th>Gender</th>\n",
       "      <th>Experience</th>\n",
       "      <th>Income</th>\n",
       "    </tr>\n",
       "  </thead>\n",
       "  <tbody>\n",
       "    <tr>\n",
       "      <th>0</th>\n",
       "      <td>50</td>\n",
       "      <td>1</td>\n",
       "      <td>15</td>\n",
       "      <td>180</td>\n",
       "    </tr>\n",
       "    <tr>\n",
       "      <th>1</th>\n",
       "      <td>29</td>\n",
       "      <td>1</td>\n",
       "      <td>5</td>\n",
       "      <td>163</td>\n",
       "    </tr>\n",
       "    <tr>\n",
       "      <th>2</th>\n",
       "      <td>36</td>\n",
       "      <td>1</td>\n",
       "      <td>6</td>\n",
       "      <td>134</td>\n",
       "    </tr>\n",
       "    <tr>\n",
       "      <th>3</th>\n",
       "      <td>34</td>\n",
       "      <td>2</td>\n",
       "      <td>4</td>\n",
       "      <td>132</td>\n",
       "    </tr>\n",
       "    <tr>\n",
       "      <th>4</th>\n",
       "      <td>46</td>\n",
       "      <td>1</td>\n",
       "      <td>9</td>\n",
       "      <td>188</td>\n",
       "    </tr>\n",
       "  </tbody>\n",
       "</table>\n",
       "</div>"
      ],
      "text/plain": [
       "   Age  Gender  Experience  Income\n",
       "0   50       1          15     180\n",
       "1   29       1           5     163\n",
       "2   36       1           6     134\n",
       "3   34       2           4     132\n",
       "4   46       1           9     188"
      ]
     },
     "execution_count": 3,
     "metadata": {},
     "output_type": "execute_result"
    }
   ],
   "source": [
    "data.head()"
   ]
  },
  {
   "cell_type": "code",
   "execution_count": 4,
   "metadata": {},
   "outputs": [],
   "source": [
    "data_np = data.values"
   ]
  },
  {
   "cell_type": "code",
   "execution_count": 5,
   "metadata": {},
   "outputs": [],
   "source": [
    "np.random.shuffle(data_np) #데이터를 random하게 다시 섞기"
   ]
  },
  {
   "cell_type": "code",
   "execution_count": 6,
   "metadata": {},
   "outputs": [],
   "source": [
    "# 종속변수와 독립변수 데이터 분리하기\n",
    "y = data_np[:,-1]\n",
    "X = data_np[:,:-1]"
   ]
  },
  {
   "cell_type": "code",
   "execution_count": 7,
   "metadata": {},
   "outputs": [],
   "source": [
    "from sklearn.model_selection import train_test_split"
   ]
  },
  {
   "cell_type": "code",
   "execution_count": 8,
   "metadata": {},
   "outputs": [],
   "source": [
    "X_train, X_test, y_train, y_test = train_test_split(X, y, test_size = 0.3)"
   ]
  },
  {
   "cell_type": "code",
   "execution_count": 9,
   "metadata": {},
   "outputs": [
    {
     "data": {
      "text/plain": [
       "(70, 3)"
      ]
     },
     "execution_count": 9,
     "metadata": {},
     "output_type": "execute_result"
    }
   ],
   "source": [
    "X_train.shape"
   ]
  },
  {
   "cell_type": "code",
   "execution_count": 10,
   "metadata": {},
   "outputs": [
    {
     "data": {
      "text/plain": [
       "(30, 3)"
      ]
     },
     "execution_count": 10,
     "metadata": {},
     "output_type": "execute_result"
    }
   ],
   "source": [
    "X_test.shape"
   ]
  },
  {
   "cell_type": "code",
   "execution_count": 11,
   "metadata": {},
   "outputs": [
    {
     "data": {
      "text/plain": [
       "array([[52,  1, 24],\n",
       "       [35,  1,  5],\n",
       "       [22,  2,  1],\n",
       "       [28,  1,  3],\n",
       "       [47,  2, 18],\n",
       "       [34,  1,  8],\n",
       "       [50,  1, 20],\n",
       "       [32,  1,  3],\n",
       "       [24,  2,  2],\n",
       "       [38,  2, 10],\n",
       "       [41,  2, 15],\n",
       "       [60,  1, 25],\n",
       "       [47,  2, 21],\n",
       "       [59,  1, 33],\n",
       "       [37,  2, 10],\n",
       "       [26,  2,  8],\n",
       "       [22,  1,  1],\n",
       "       [32,  1,  3],\n",
       "       [57,  1, 31],\n",
       "       [46,  1, 13],\n",
       "       [39,  1,  6],\n",
       "       [40,  1,  9],\n",
       "       [43,  2, 17],\n",
       "       [22,  1,  1],\n",
       "       [28,  2,  2],\n",
       "       [39,  1, 10],\n",
       "       [33,  1,  7],\n",
       "       [46,  2, 19],\n",
       "       [24,  2,  1],\n",
       "       [23,  2,  3]], dtype=int64)"
      ]
     },
     "execution_count": 11,
     "metadata": {},
     "output_type": "execute_result"
    }
   ],
   "source": [
    "X_test"
   ]
  },
  {
   "cell_type": "markdown",
   "metadata": {},
   "source": [
    "## Feature scaling"
   ]
  },
  {
   "cell_type": "markdown",
   "metadata": {},
   "source": [
    "### standardization"
   ]
  },
  {
   "cell_type": "code",
   "execution_count": 12,
   "metadata": {},
   "outputs": [],
   "source": [
    "from sklearn.preprocessing import StandardScaler\n",
    "scaler = StandardScaler()"
   ]
  },
  {
   "cell_type": "code",
   "execution_count": 13,
   "metadata": {},
   "outputs": [],
   "source": [
    "X_train_std = scaler.fit_transform(X_train)\n",
    "X_test_std = scaler.transform(X_test)"
   ]
  },
  {
   "cell_type": "code",
   "execution_count": 14,
   "metadata": {},
   "outputs": [
    {
     "data": {
      "text/plain": [
       "array([[ 1.39693814, -1.02899151,  1.61840786],\n",
       "       [-0.91233256, -1.02899151, -0.9584235 ],\n",
       "       [ 0.91915799,  0.97182532,  0.42202187],\n",
       "       [-1.07159261,  0.97182532, -0.9584235 ],\n",
       "       [-0.19566234,  0.97182532, -0.13015628],\n",
       "       [-0.75307251,  0.97182532, -0.9584235 ],\n",
       "       [ 0.04322773, -1.02899151,  0.05390311],\n",
       "       [-0.67344249,  0.97182532, -0.77436412],\n",
       "       [ 0.52100787, -1.02899151, -0.31421566],\n",
       "       [-0.51418244, -1.02899151, -0.59030474],\n",
       "       [ 0.36174782, -1.02899151,  0.32999218],\n",
       "       [ 0.83952797, -1.02899151,  0.79014064],\n",
       "       [ 1.39693814,  0.97182532,  1.52637817],\n",
       "       [-1.39011271, -1.02899151, -1.05045319],\n",
       "       [ 0.52100787, -1.02899151, -0.03812659],\n",
       "       [-1.07159261,  0.97182532, -0.9584235 ],\n",
       "       [-1.46974273,  0.97182532, -1.05045319],\n",
       "       [-0.83270254, -1.02899151, -0.68233443],\n",
       "       [ 1.39693814,  0.97182532,  1.43434848],\n",
       "       [-0.75307251,  0.97182532, -1.05045319],\n",
       "       [ 1.39693814, -1.02899151,  1.61840786],\n",
       "       [-1.31048268,  0.97182532, -0.9584235 ],\n",
       "       [-0.75307251, -1.02899151, -0.9584235 ],\n",
       "       [-0.27529237, -1.02899151, -0.13015628],\n",
       "       [-1.07159261,  0.97182532, -1.05045319],\n",
       "       [ 1.23767809, -1.02899151,  1.61840786],\n",
       "       [ 0.68026792, -1.02899151, -0.49827504],\n",
       "       [-1.23085266,  0.97182532, -0.9584235 ],\n",
       "       [-1.07159261, -1.02899151, -1.05045319],\n",
       "       [ 1.23767809,  0.97182532,  1.1582594 ],\n",
       "       [ 0.75989794,  0.97182532,  0.88217033],\n",
       "       [-0.51418244,  0.97182532, -0.86639381],\n",
       "       [ 0.75989794,  0.97182532,  0.88217033],\n",
       "       [-1.31048268,  0.97182532, -1.05045319],\n",
       "       [ 1.55619819, -1.02899151,  1.89449694],\n",
       "       [-0.83270254, -1.02899151, -0.9584235 ],\n",
       "       [ 0.36174782, -1.02899151, -0.22218597],\n",
       "       [ 1.47656816,  0.97182532,  1.52637817],\n",
       "       [-1.15122263,  0.97182532, -1.14248288],\n",
       "       [-1.31048268, -1.02899151, -1.05045319],\n",
       "       [ 1.55619819,  0.97182532,  1.89449694],\n",
       "       [-1.23085266, -1.02899151, -0.68233443],\n",
       "       [ 0.68026792,  0.97182532,  0.23796249],\n",
       "       [-0.27529237, -1.02899151, -0.59030474],\n",
       "       [ 0.91915799,  0.97182532,  1.2502891 ],\n",
       "       [ 1.07841804,  0.97182532,  1.2502891 ],\n",
       "       [ 1.07841804,  0.97182532,  0.97420002],\n",
       "       [ 0.99878802,  0.97182532,  1.34231879],\n",
       "       [-0.91233256, -1.02899151, -1.05045319],\n",
       "       [-0.91233256,  0.97182532, -0.9584235 ],\n",
       "       [-1.31048268, -1.02899151, -0.68233443],\n",
       "       [-0.51418244, -1.02899151, -0.86639381],\n",
       "       [ 0.52100787, -1.02899151,  0.60608125],\n",
       "       [ 1.07841804, -1.02899151,  1.06622971],\n",
       "       [ 1.39693814,  0.97182532,  1.52637817],\n",
       "       [ 0.52100787,  0.97182532,  0.60608125],\n",
       "       [ 1.63582821,  0.97182532,  1.80246724],\n",
       "       [-1.46974273,  0.97182532, -1.05045319],\n",
       "       [-0.67344249, -1.02899151, -0.59030474],\n",
       "       [-0.91233256,  0.97182532, -0.86639381],\n",
       "       [-0.99196259, -1.02899151, -0.68233443],\n",
       "       [ 1.23767809, -1.02899151,  1.2502891 ],\n",
       "       [-0.43455242,  0.97182532, -0.77436412],\n",
       "       [ 0.91915799,  0.97182532,  0.79014064],\n",
       "       [ 0.83952797,  0.97182532,  0.79014064],\n",
       "       [ 0.83952797, -1.02899151,  0.23796249],\n",
       "       [-0.19566234, -1.02899151, -0.13015628],\n",
       "       [-1.23085266,  0.97182532, -1.05045319],\n",
       "       [-0.51418244, -1.02899151, -0.86639381],\n",
       "       [-0.11603232, -1.02899151, -0.13015628]])"
      ]
     },
     "execution_count": 14,
     "metadata": {},
     "output_type": "execute_result"
    }
   ],
   "source": [
    "X_train_std"
   ]
  },
  {
   "cell_type": "code",
   "execution_count": 15,
   "metadata": {},
   "outputs": [
    {
     "data": {
      "text/plain": [
       "array([[-0.95883727, -0.94440028, -0.68061641],\n",
       "       [-0.47010953,  1.05887304, -0.87350365],\n",
       "       [-0.22574567, -0.94440028, -0.58417279],\n",
       "       [-0.7144734 ,  1.05887304, -1.0663909 ],\n",
       "       [ 1.4848014 ,  1.05887304,  1.63403049],\n",
       "       [ 0.91461904,  1.05887304,  0.86248153],\n",
       "       [ 1.15898291,  1.05887304,  1.34469963],\n",
       "       [-1.36611038, -0.94440028, -1.0663909 ],\n",
       "       [ 0.18152744,  1.05887304,  0.2838198 ],\n",
       "       [-1.04029189,  1.05887304, -0.39128555],\n",
       "       [ 0.99607367,  1.05887304,  0.47670704],\n",
       "       [ 1.4848014 , -0.94440028,  1.73047412],\n",
       "       [ 0.91461904, -0.94440028,  0.7660379 ],\n",
       "       [-0.87738264,  1.05887304, -0.96994727],\n",
       "       [ 0.0186182 , -0.94440028, -0.19839831],\n",
       "       [-1.04029189, -0.94440028, -1.0663909 ],\n",
       "       [ 1.4848014 ,  1.05887304,  1.63403049],\n",
       "       [-0.14429104, -0.94440028, -0.10195469],\n",
       "       [-0.79592802, -0.94440028, -0.96994727],\n",
       "       [ 0.7517098 , -0.94440028, -0.48772917],\n",
       "       [-1.20320113,  1.05887304, -1.0663909 ],\n",
       "       [-0.38865491,  1.05887304, -0.77706003],\n",
       "       [-0.79592802, -0.94440028, -0.68061641],\n",
       "       [ 0.67025518,  1.05887304,  0.57315066],\n",
       "       [ 0.99607367,  1.05887304,  0.86248153],\n",
       "       [ 1.4848014 , -0.94440028,  1.82691774],\n",
       "       [-0.87738264,  1.05887304, -0.96994727],\n",
       "       [ 1.32189215, -0.94440028,  1.34469963],\n",
       "       [-0.87738264, -0.94440028, -1.0663909 ],\n",
       "       [-1.20320113,  1.05887304, -1.0663909 ]])"
      ]
     },
     "execution_count": 15,
     "metadata": {},
     "output_type": "execute_result"
    }
   ],
   "source": [
    "X_test_std"
   ]
  },
  {
   "cell_type": "code",
   "execution_count": 19,
   "metadata": {},
   "outputs": [],
   "source": [
    "from sklearn.linear_model import LinearRegression\n",
    "model_std = LinearRegression()"
   ]
  },
  {
   "cell_type": "code",
   "execution_count": 17,
   "metadata": {},
   "outputs": [
    {
     "data": {
      "text/plain": [
       "LinearRegression()"
      ]
     },
     "execution_count": 17,
     "metadata": {},
     "output_type": "execute_result"
    }
   ],
   "source": [
    "model_std.fit(X_train_std, y_train)"
   ]
  },
  {
   "cell_type": "code",
   "execution_count": 18,
   "metadata": {},
   "outputs": [
    {
     "data": {
      "text/plain": [
       "0.6188011358404542"
      ]
     },
     "execution_count": 18,
     "metadata": {},
     "output_type": "execute_result"
    }
   ],
   "source": [
    "model_std.score(X_test_std, y_test)"
   ]
  },
  {
   "cell_type": "markdown",
   "metadata": {
    "collapsed": true
   },
   "source": [
    "### min-max scaling"
   ]
  },
  {
   "cell_type": "code",
   "execution_count": 15,
   "metadata": {},
   "outputs": [],
   "source": [
    "from sklearn.preprocessing import MinMaxScaler\n",
    "scaler_minmax = MinMaxScaler()"
   ]
  },
  {
   "cell_type": "code",
   "execution_count": 16,
   "metadata": {},
   "outputs": [],
   "source": [
    "X_train_minmax = scaler_minmax.fit_transform(X_train)\n",
    "X_test_minmax = scaler_minmax.transform(X_test)"
   ]
  },
  {
   "cell_type": "code",
   "execution_count": 17,
   "metadata": {},
   "outputs": [
    {
     "data": {
      "text/plain": [
       "array([[0.79487179, 0.        , 0.72727273],\n",
       "       [0.35897436, 0.        , 0.15151515],\n",
       "       [0.02564103, 1.        , 0.03030303],\n",
       "       [0.17948718, 0.        , 0.09090909],\n",
       "       [0.66666667, 1.        , 0.54545455],\n",
       "       [0.33333333, 0.        , 0.24242424],\n",
       "       [0.74358974, 0.        , 0.60606061],\n",
       "       [0.28205128, 0.        , 0.09090909],\n",
       "       [0.07692308, 1.        , 0.06060606],\n",
       "       [0.43589744, 1.        , 0.3030303 ],\n",
       "       [0.51282051, 1.        , 0.45454545],\n",
       "       [1.        , 0.        , 0.75757576],\n",
       "       [0.66666667, 1.        , 0.63636364],\n",
       "       [0.97435897, 0.        , 1.        ],\n",
       "       [0.41025641, 1.        , 0.3030303 ],\n",
       "       [0.12820513, 1.        , 0.24242424],\n",
       "       [0.02564103, 0.        , 0.03030303],\n",
       "       [0.28205128, 0.        , 0.09090909],\n",
       "       [0.92307692, 0.        , 0.93939394],\n",
       "       [0.64102564, 0.        , 0.39393939],\n",
       "       [0.46153846, 0.        , 0.18181818],\n",
       "       [0.48717949, 0.        , 0.27272727],\n",
       "       [0.56410256, 1.        , 0.51515152],\n",
       "       [0.02564103, 0.        , 0.03030303],\n",
       "       [0.17948718, 1.        , 0.06060606],\n",
       "       [0.46153846, 0.        , 0.3030303 ],\n",
       "       [0.30769231, 0.        , 0.21212121],\n",
       "       [0.64102564, 1.        , 0.57575758],\n",
       "       [0.07692308, 1.        , 0.03030303],\n",
       "       [0.05128205, 1.        , 0.09090909]])"
      ]
     },
     "execution_count": 17,
     "metadata": {},
     "output_type": "execute_result"
    }
   ],
   "source": [
    "X_test_minmax"
   ]
  },
  {
   "cell_type": "code",
   "execution_count": 20,
   "metadata": {},
   "outputs": [
    {
     "data": {
      "text/plain": [
       "LinearRegression()"
      ]
     },
     "execution_count": 20,
     "metadata": {},
     "output_type": "execute_result"
    }
   ],
   "source": [
    "model_minmax = LinearRegression()\n",
    "model_minmax.fit(X_train_minmax, y_train)"
   ]
  },
  {
   "cell_type": "code",
   "execution_count": 91,
   "metadata": {},
   "outputs": [
    {
     "data": {
      "text/plain": [
       "0.6682911567046792"
      ]
     },
     "execution_count": 91,
     "metadata": {},
     "output_type": "execute_result"
    }
   ],
   "source": [
    "model_minmax.score(X_test_minmax, y_test)"
   ]
  },
  {
   "cell_type": "code",
   "execution_count": null,
   "metadata": {
    "collapsed": true
   },
   "outputs": [],
   "source": []
  }
 ],
 "metadata": {
  "kernelspec": {
   "display_name": "Python 3 (ipykernel)",
   "language": "python",
   "name": "python3"
  },
  "language_info": {
   "codemirror_mode": {
    "name": "ipython",
    "version": 3
   },
   "file_extension": ".py",
   "mimetype": "text/x-python",
   "name": "python",
   "nbconvert_exporter": "python",
   "pygments_lexer": "ipython3",
   "version": "3.8.5"
  }
 },
 "nbformat": 4,
 "nbformat_minor": 2
}

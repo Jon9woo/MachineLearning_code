{
 "cells": [
  {
   "cell_type": "code",
   "execution_count": 1,
   "metadata": {},
   "outputs": [],
   "source": [
    "import numpy as np\n",
    "import pandas as pd"
   ]
  },
  {
   "cell_type": "code",
   "execution_count": 2,
   "metadata": {},
   "outputs": [],
   "source": [
    "data = pd.read_csv('training_test_data.csv')"
   ]
  },
  {
   "cell_type": "code",
   "execution_count": 3,
   "metadata": {},
   "outputs": [
    {
     "data": {
      "text/plain": [
       "(100, 4)"
      ]
     },
     "execution_count": 3,
     "metadata": {},
     "output_type": "execute_result"
    }
   ],
   "source": [
    "data.shape"
   ]
  },
  {
   "cell_type": "code",
   "execution_count": 4,
   "metadata": {},
   "outputs": [
    {
     "data": {
      "text/html": [
       "<div>\n",
       "<style scoped>\n",
       "    .dataframe tbody tr th:only-of-type {\n",
       "        vertical-align: middle;\n",
       "    }\n",
       "\n",
       "    .dataframe tbody tr th {\n",
       "        vertical-align: top;\n",
       "    }\n",
       "\n",
       "    .dataframe thead th {\n",
       "        text-align: right;\n",
       "    }\n",
       "</style>\n",
       "<table border=\"1\" class=\"dataframe\">\n",
       "  <thead>\n",
       "    <tr style=\"text-align: right;\">\n",
       "      <th></th>\n",
       "      <th>Age</th>\n",
       "      <th>Gender</th>\n",
       "      <th>Experience</th>\n",
       "      <th>Income</th>\n",
       "    </tr>\n",
       "  </thead>\n",
       "  <tbody>\n",
       "    <tr>\n",
       "      <th>0</th>\n",
       "      <td>50</td>\n",
       "      <td>1</td>\n",
       "      <td>15</td>\n",
       "      <td>180</td>\n",
       "    </tr>\n",
       "    <tr>\n",
       "      <th>1</th>\n",
       "      <td>29</td>\n",
       "      <td>1</td>\n",
       "      <td>5</td>\n",
       "      <td>163</td>\n",
       "    </tr>\n",
       "    <tr>\n",
       "      <th>2</th>\n",
       "      <td>36</td>\n",
       "      <td>1</td>\n",
       "      <td>6</td>\n",
       "      <td>134</td>\n",
       "    </tr>\n",
       "    <tr>\n",
       "      <th>3</th>\n",
       "      <td>34</td>\n",
       "      <td>2</td>\n",
       "      <td>4</td>\n",
       "      <td>132</td>\n",
       "    </tr>\n",
       "    <tr>\n",
       "      <th>4</th>\n",
       "      <td>46</td>\n",
       "      <td>1</td>\n",
       "      <td>9</td>\n",
       "      <td>188</td>\n",
       "    </tr>\n",
       "  </tbody>\n",
       "</table>\n",
       "</div>"
      ],
      "text/plain": [
       "   Age  Gender  Experience  Income\n",
       "0   50       1          15     180\n",
       "1   29       1           5     163\n",
       "2   36       1           6     134\n",
       "3   34       2           4     132\n",
       "4   46       1           9     188"
      ]
     },
     "execution_count": 4,
     "metadata": {},
     "output_type": "execute_result"
    }
   ],
   "source": [
    "data.head()"
   ]
  },
  {
   "cell_type": "code",
   "execution_count": 5,
   "metadata": {},
   "outputs": [],
   "source": [
    "data_np = data.values"
   ]
  },
  {
   "cell_type": "code",
   "execution_count": 6,
   "metadata": {},
   "outputs": [
    {
     "data": {
      "text/plain": [
       "array([[ 50,   1,  15, 180],\n",
       "       [ 29,   1,   5, 163],\n",
       "       [ 36,   1,   6, 134],\n",
       "       [ 34,   2,   4, 132],\n",
       "       [ 46,   1,   9, 188],\n",
       "       [ 33,   1,   3, 127],\n",
       "       [ 26,   2,   8, 141],\n",
       "       [ 23,   1,   5, 122],\n",
       "       [ 48,   1,   7, 169],\n",
       "       [ 24,   1,   5, 114],\n",
       "       [ 44,   1,  10, 174],\n",
       "       [ 60,   1,  25, 190],\n",
       "       [ 51,   2,  17, 190],\n",
       "       [ 24,   2,   1, 110],\n",
       "       [ 28,   1,   2, 120],\n",
       "       [ 32,   1,   3, 130],\n",
       "       [ 46,   1,  12, 165],\n",
       "       [ 39,   1,  10, 170],\n",
       "       [ 23,   2,   3, 120],\n",
       "       [ 28,   1,   1, 130],\n",
       "       [ 33,   1,   3, 133],\n",
       "       [ 48,   2,  15, 167],\n",
       "       [ 39,   1,   6, 155],\n",
       "       [ 40,   1,   9, 159],\n",
       "       [ 46,   1,  13, 179],\n",
       "       [ 49,   2,  22, 200],\n",
       "       [ 28,   1,   3, 120],\n",
       "       [ 30,   2,   1, 145],\n",
       "       [ 52,   2,  27, 181],\n",
       "       [ 51,   2,  21, 198],\n",
       "       [ 22,   2,   1, 112],\n",
       "       [ 31,   2,   4, 143],\n",
       "       [ 28,   2,   2, 104],\n",
       "       [ 38,   1,  11, 160],\n",
       "       [ 40,   1,  13, 199],\n",
       "       [ 35,   1,   5, 127],\n",
       "       [ 21,   2,   1, 115],\n",
       "       [ 37,   2,  10, 146],\n",
       "       [ 57,   1,  30, 154],\n",
       "       [ 41,   2,  15, 191],\n",
       "       [ 49,   2,  22, 155],\n",
       "       [ 30,   2,   2, 147],\n",
       "       [ 26,   2,   1, 110],\n",
       "       [ 37,   2,  11, 151],\n",
       "       [ 28,   2,   2, 127],\n",
       "       [ 59,   1,  33, 197],\n",
       "       [ 29,   1,   2, 117],\n",
       "       [ 23,   1,   1, 130],\n",
       "       [ 37,   1,  11, 151],\n",
       "       [ 22,   1,   1, 137],\n",
       "       [ 55,   1,  30, 181],\n",
       "       [ 23,   2,   1, 115],\n",
       "       [ 34,   1,   8, 145],\n",
       "       [ 57,   2,  29, 178],\n",
       "       [ 57,   1,  31, 194],\n",
       "       [ 27,   1,   5, 126],\n",
       "       [ 50,   1,  21, 198],\n",
       "       [ 33,   1,   7, 138],\n",
       "       [ 22,   1,   1, 129],\n",
       "       [ 33,   2,   3, 131],\n",
       "       [ 24,   2,   2, 113],\n",
       "       [ 52,   1,  24, 155],\n",
       "       [ 23,   2,   2, 122],\n",
       "       [ 51,   2,  26, 159],\n",
       "       [ 53,   2,  26, 165],\n",
       "       [ 25,   2,   0, 103],\n",
       "       [ 33,   1,   6, 141],\n",
       "       [ 57,   1,  30, 159],\n",
       "       [ 59,   2,  33, 194],\n",
       "       [ 28,   2,   3, 120],\n",
       "       [ 21,   2,   1, 118],\n",
       "       [ 46,   1,  19, 168],\n",
       "       [ 53,   1,  24, 156],\n",
       "       [ 50,   2,  21, 185],\n",
       "       [ 59,   1,  33, 156],\n",
       "       [ 38,   2,  10, 138],\n",
       "       [ 43,   2,  17, 174],\n",
       "       [ 60,   2,  32, 158],\n",
       "       [ 50,   1,  20, 191],\n",
       "       [ 55,   2,  25, 154],\n",
       "       [ 24,   2,   2, 114],\n",
       "       [ 53,   2,  23, 200],\n",
       "       [ 47,   2,  21, 168],\n",
       "       [ 55,   1,  26, 155],\n",
       "       [ 24,   2,   1, 124],\n",
       "       [ 32,   1,   3, 160],\n",
       "       [ 46,   2,  19, 190],\n",
       "       [ 26,   1,   1, 124],\n",
       "       [ 26,   2,   2, 120],\n",
       "       [ 44,   1,  16, 189],\n",
       "       [ 36,   1,  11, 144],\n",
       "       [ 30,   1,   2, 155],\n",
       "       [ 26,   2,   2, 125],\n",
       "       [ 57,   2,  28, 166],\n",
       "       [ 47,   2,  18, 197],\n",
       "       [ 46,   2,  19, 198],\n",
       "       [ 31,   1,   6, 130],\n",
       "       [ 57,   2,  29, 168],\n",
       "       [ 22,   1,   1, 129],\n",
       "       [ 58,   2,  29, 190]], dtype=int64)"
      ]
     },
     "execution_count": 6,
     "metadata": {},
     "output_type": "execute_result"
    }
   ],
   "source": [
    "data_np"
   ]
  },
  {
   "cell_type": "code",
   "execution_count": 7,
   "metadata": {},
   "outputs": [
    {
     "data": {
      "text/plain": [
       "(100, 4)"
      ]
     },
     "execution_count": 7,
     "metadata": {},
     "output_type": "execute_result"
    }
   ],
   "source": [
    "data_np.shape"
   ]
  },
  {
   "cell_type": "code",
   "execution_count": 8,
   "metadata": {},
   "outputs": [],
   "source": [
    "# 종속변수와 독립변수 데이터 분리하기\n",
    "y = data_np[:,-1]\n",
    "X = data_np[:,:-1]"
   ]
  },
  {
   "cell_type": "markdown",
   "metadata": {},
   "source": [
    "학습 데이터와 테스트 데이터로 분리하기"
   ]
  },
  {
   "cell_type": "code",
   "execution_count": 9,
   "metadata": {},
   "outputs": [],
   "source": [
    "from sklearn.model_selection import train_test_split"
   ]
  },
  {
   "cell_type": "code",
   "execution_count": 10,
   "metadata": {},
   "outputs": [],
   "source": [
    "X_train, X_test, y_train, y_test = train_test_split(X, y, test_size = 0.3)"
   ]
  },
  {
   "cell_type": "code",
   "execution_count": 11,
   "metadata": {},
   "outputs": [
    {
     "data": {
      "text/plain": [
       "(70, 3)"
      ]
     },
     "execution_count": 11,
     "metadata": {},
     "output_type": "execute_result"
    }
   ],
   "source": [
    "X_train.shape"
   ]
  },
  {
   "cell_type": "code",
   "execution_count": 12,
   "metadata": {},
   "outputs": [
    {
     "data": {
      "text/plain": [
       "(30, 3)"
      ]
     },
     "execution_count": 12,
     "metadata": {},
     "output_type": "execute_result"
    }
   ],
   "source": [
    "X_test.shape"
   ]
  },
  {
   "cell_type": "code",
   "execution_count": 13,
   "metadata": {},
   "outputs": [],
   "source": [
    "from sklearn.linear_model import LinearRegression\n",
    "model = LinearRegression()"
   ]
  },
  {
   "cell_type": "code",
   "execution_count": 14,
   "metadata": {},
   "outputs": [
    {
     "data": {
      "text/plain": [
       "LinearRegression()"
      ]
     },
     "execution_count": 14,
     "metadata": {},
     "output_type": "execute_result"
    }
   ],
   "source": [
    "model.fit(X_train, y_train)"
   ]
  },
  {
   "cell_type": "markdown",
   "metadata": {},
   "source": [
    "모델 평가하기"
   ]
  },
  {
   "cell_type": "code",
   "execution_count": 16,
   "metadata": {},
   "outputs": [
    {
     "data": {
      "text/plain": [
       "0.6423887563036547"
      ]
     },
     "execution_count": 16,
     "metadata": {},
     "output_type": "execute_result"
    }
   ],
   "source": [
    "model.score(X_test, y_test)"
   ]
  },
  {
   "cell_type": "code",
   "execution_count": 17,
   "metadata": {},
   "outputs": [],
   "source": [
    "from sklearn.metrics import r2_score"
   ]
  },
  {
   "cell_type": "code",
   "execution_count": 18,
   "metadata": {},
   "outputs": [
    {
     "data": {
      "text/plain": [
       "0.6423887563036547"
      ]
     },
     "execution_count": 18,
     "metadata": {},
     "output_type": "execute_result"
    }
   ],
   "source": [
    "r2_score(y_test, model.predict(X_test))"
   ]
  },
  {
   "cell_type": "code",
   "execution_count": null,
   "metadata": {
    "collapsed": true
   },
   "outputs": [],
   "source": []
  }
 ],
 "metadata": {
  "kernelspec": {
   "display_name": "Python 3 (ipykernel)",
   "language": "python",
   "name": "python3"
  },
  "language_info": {
   "codemirror_mode": {
    "name": "ipython",
    "version": 3
   },
   "file_extension": ".py",
   "mimetype": "text/x-python",
   "name": "python",
   "nbconvert_exporter": "python",
   "pygments_lexer": "ipython3",
   "version": "3.8.5"
  }
 },
 "nbformat": 4,
 "nbformat_minor": 2
}

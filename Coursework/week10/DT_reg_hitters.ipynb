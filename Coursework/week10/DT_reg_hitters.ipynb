{
 "cells": [
  {
   "cell_type": "code",
   "execution_count": 1,
   "metadata": {},
   "outputs": [],
   "source": [
    "import pandas as pd\n",
    "import numpy as np"
   ]
  },
  {
   "cell_type": "code",
   "execution_count": 2,
   "metadata": {},
   "outputs": [],
   "source": [
    "data = pd.read_csv('Hitters_new.csv')\n",
    "data_np = data.values"
   ]
  },
  {
   "cell_type": "code",
   "execution_count": 3,
   "metadata": {},
   "outputs": [],
   "source": [
    "np.random.shuffle(data_np)\n",
    "X=data_np[:,1:3]"
   ]
  },
  {
   "cell_type": "code",
   "execution_count": 4,
   "metadata": {},
   "outputs": [
    {
     "data": {
      "text/plain": [
       "array([[4, 1],\n",
       "       [103, 8],\n",
       "       [46, 4],\n",
       "       [167, 4],\n",
       "       [131, 7],\n",
       "       [32, 8],\n",
       "       [58, 4],\n",
       "       [69, 4],\n",
       "       [73, 7],\n",
       "       [27, 4],\n",
       "       [81, 7],\n",
       "       [83, 14],\n",
       "       [81, 2],\n",
       "       [129, 10],\n",
       "       [63, 10],\n",
       "       [41, 2],\n",
       "       [101, 17],\n",
       "       [147, 10],\n",
       "       [60, 3],\n",
       "       [132, 3],\n",
       "       [68, 6],\n",
       "       [172, 1],\n",
       "       [37, 2],\n",
       "       [142, 18],\n",
       "       [52, 12],\n",
       "       [136, 12],\n",
       "       [76, 3],\n",
       "       [56, 2],\n",
       "       [130, 3],\n",
       "       [83, 5],\n",
       "       [174, 14],\n",
       "       [151, 10],\n",
       "       [97, 4],\n",
       "       [96, 15],\n",
       "       [54, 1],\n",
       "       [118, 8],\n",
       "       [87, 2],\n",
       "       [81, 17],\n",
       "       [39, 9],\n",
       "       [122, 18],\n",
       "       [56, 4],\n",
       "       [110, 7],\n",
       "       [127, 2],\n",
       "       [49, 7],\n",
       "       [108, 3],\n",
       "       [144, 9],\n",
       "       [139, 2],\n",
       "       [114, 4],\n",
       "       [161, 4],\n",
       "       [113, 5],\n",
       "       [104, 7],\n",
       "       [223, 3],\n",
       "       [70, 12],\n",
       "       [169, 7],\n",
       "       [127, 5],\n",
       "       [53, 2],\n",
       "       [213, 4],\n",
       "       [71, 3],\n",
       "       [101, 3],\n",
       "       [68, 7],\n",
       "       [43, 3],\n",
       "       [112, 7],\n",
       "       [135, 9],\n",
       "       [76, 8],\n",
       "       [169, 8],\n",
       "       [94, 7],\n",
       "       [83, 9],\n",
       "       [56, 12],\n",
       "       [120, 3],\n",
       "       [106, 14],\n",
       "       [132, 6],\n",
       "       [141, 15],\n",
       "       [110, 7],\n",
       "       [157, 10],\n",
       "       [148, 13],\n",
       "       [163, 6],\n",
       "       [123, 4],\n",
       "       [68, 18],\n",
       "       [137, 15],\n",
       "       [32, 19],\n",
       "       [101, 12],\n",
       "       [93, 5],\n",
       "       [184, 5],\n",
       "       [118, 4],\n",
       "       [78, 12],\n",
       "       [116, 6],\n",
       "       [110, 9],\n",
       "       [210, 6],\n",
       "       [84, 10],\n",
       "       [160, 8],\n",
       "       [198, 5],\n",
       "       [74, 10],\n",
       "       [152, 6],\n",
       "       [78, 1],\n",
       "       [119, 7],\n",
       "       [128, 14],\n",
       "       [152, 2],\n",
       "       [85, 7],\n",
       "       [64, 1],\n",
       "       [66, 14],\n",
       "       [139, 5],\n",
       "       [80, 7],\n",
       "       [101, 1],\n",
       "       [137, 14],\n",
       "       [159, 6],\n",
       "       [141, 11],\n",
       "       [120, 8],\n",
       "       [186, 6],\n",
       "       [138, 3],\n",
       "       [57, 5],\n",
       "       [131, 6],\n",
       "       [138, 3],\n",
       "       [96, 4],\n",
       "       [238, 5],\n",
       "       [58, 1],\n",
       "       [76, 4],\n",
       "       [154, 14],\n",
       "       [68, 1],\n",
       "       [145, 11],\n",
       "       [43, 7],\n",
       "       [70, 4],\n",
       "       [119, 12],\n",
       "       [170, 11],\n",
       "       [147, 6],\n",
       "       [92, 3],\n",
       "       [142, 4],\n",
       "       [91, 13],\n",
       "       [61, 17],\n",
       "       [144, 8],\n",
       "       [82, 5],\n",
       "       [77, 6],\n",
       "       [75, 3],\n",
       "       [42, 10],\n",
       "       [207, 5],\n",
       "       [133, 17],\n",
       "       [78, 5],\n",
       "       [44, 16],\n",
       "       [131, 14],\n",
       "       [140, 4],\n",
       "       [86, 4],\n",
       "       [96, 4],\n",
       "       [163, 4],\n",
       "       [56, 5],\n",
       "       [178, 6],\n",
       "       [86, 1],\n",
       "       [136, 10],\n",
       "       [120, 4],\n",
       "       [113, 12],\n",
       "       [103, 6],\n",
       "       [152, 3],\n",
       "       [65, 9],\n",
       "       [112, 2],\n",
       "       [147, 7],\n",
       "       [82, 2],\n",
       "       [183, 5],\n",
       "       [145, 2],\n",
       "       [168, 5],\n",
       "       [53, 4],\n",
       "       [77, 12],\n",
       "       [103, 15],\n",
       "       [85, 8],\n",
       "       [95, 10],\n",
       "       [139, 17],\n",
       "       [52, 6],\n",
       "       [52, 24],\n",
       "       [174, 6],\n",
       "       [125, 13],\n",
       "       [159, 9],\n",
       "       [53, 3],\n",
       "       [72, 5],\n",
       "       [53, 9],\n",
       "       [102, 6],\n",
       "       [154, 6],\n",
       "       [179, 5],\n",
       "       [152, 5],\n",
       "       [171, 6],\n",
       "       [41, 16],\n",
       "       [117, 6],\n",
       "       [51, 1],\n",
       "       [90, 10],\n",
       "       [77, 20],\n",
       "       [124, 7],\n",
       "       [149, 1],\n",
       "       [126, 6],\n",
       "       [47, 6],\n",
       "       [94, 9],\n",
       "       [68, 6],\n",
       "       [60, 2],\n",
       "       [211, 5],\n",
       "       [47, 11],\n",
       "       [122, 4],\n",
       "       [113, 4],\n",
       "       [115, 3],\n",
       "       [200, 4],\n",
       "       [117, 1],\n",
       "       [60, 6],\n",
       "       [135, 1],\n",
       "       [109, 1],\n",
       "       [102, 5],\n",
       "       [70, 16],\n",
       "       [57, 3],\n",
       "       [149, 7],\n",
       "       [39, 3],\n",
       "       [70, 18],\n",
       "       [94, 13],\n",
       "       [123, 9],\n",
       "       [103, 2],\n",
       "       [91, 2],\n",
       "       [49, 8],\n",
       "       [103, 2],\n",
       "       [84, 5],\n",
       "       [99, 4],\n",
       "       [168, 18],\n",
       "       [92, 6],\n",
       "       [76, 6],\n",
       "       [158, 15],\n",
       "       [92, 1],\n",
       "       [54, 1],\n",
       "       [150, 14],\n",
       "       [77, 16],\n",
       "       [169, 11],\n",
       "       [92, 13],\n",
       "       [73, 4],\n",
       "       [76, 5],\n",
       "       [170, 6],\n",
       "       [119, 9],\n",
       "       [113, 1],\n",
       "       [54, 5],\n",
       "       [66, 3],\n",
       "       [126, 11],\n",
       "       [101, 20],\n",
       "       [73, 3],\n",
       "       [70, 15],\n",
       "       [200, 13],\n",
       "       [144, 2],\n",
       "       [93, 2],\n",
       "       [146, 6],\n",
       "       [127, 7],\n",
       "       [148, 14],\n",
       "       [96, 5],\n",
       "       [128, 13],\n",
       "       [136, 11],\n",
       "       [41, 2],\n",
       "       [163, 11],\n",
       "       [137, 2],\n",
       "       [43, 13],\n",
       "       [70, 15],\n",
       "       [158, 5],\n",
       "       [163, 13],\n",
       "       [46, 5],\n",
       "       [39, 14],\n",
       "       [177, 6],\n",
       "       [108, 3],\n",
       "       [1, 2],\n",
       "       [171, 13],\n",
       "       [55, 12],\n",
       "       [159, 10],\n",
       "       [141, 8],\n",
       "       [81, 14],\n",
       "       [40, 3],\n",
       "       [163, 3],\n",
       "       [157, 4],\n",
       "       [168, 9]], dtype=object)"
      ]
     },
     "execution_count": 4,
     "metadata": {},
     "output_type": "execute_result"
    }
   ],
   "source": [
    "X"
   ]
  },
  {
   "cell_type": "code",
   "execution_count": 4,
   "metadata": {},
   "outputs": [],
   "source": [
    "y = data_np[:,0]"
   ]
  },
  {
   "cell_type": "code",
   "execution_count": 5,
   "metadata": {},
   "outputs": [
    {
     "data": {
      "text/plain": [
       "array([70.0, 86.5, 425.0, 362.5, 137.0, 175.0, 500.0, 550.0, 105.0, 70.0,\n",
       "       787.5, 600.0, 90.0, 225.0, 120.0, 530.0, 625.0, 100.0, 750.0,\n",
       "       1000.0, 500.0, 1300.0, 385.0, 1500.0, 750.0, 97.5, 215.0, 2127.333,\n",
       "       300.0, 475.0, 612.5, 1350.0, 587.5, 850.0, 925.0, 2460.0, 105.0,\n",
       "       91.5, 160.0, 933.3330000000001, 900.0, 517.143, 900.0, 500.0,\n",
       "       155.0, 550.0, 825.0, 341.667, 110.0, 240.0, 185.0, 1150.0, 110.0,\n",
       "       130.0, 450.0, 1900.0, 750.0, 875.0, 90.0, 75.0, 725.0, 120.0,\n",
       "       350.0, 277.5, 850.0, 580.0, 662.5, 90.0, 400.0, 595.0, 450.0,\n",
       "       200.0, 420.0, 657.0, 70.0, 265.0, 780.0, 277.5, 286.66700000000003,\n",
       "       365.0, 1670.0, 125.0, 235.0, 1043.333, 140.0, 1000.0, 525.0,\n",
       "       326.66700000000003, 375.0, 110.0, 875.0, 150.0, 1310.0, 75.0,\n",
       "       875.0, 1000.0, 670.0, 155.0, 1300.0, 750.0, 775.0, 800.0, 475.0,\n",
       "       500.0, 740.0, 560.0, 1183.333, 1220.0, 700.0, 625.0, 80.0, 200.0,\n",
       "       90.0, 250.0, 400.0, 875.0, 210.0, 202.5, 75.0, 341.667, 750.0,\n",
       "       250.0, 415.0, 172.0, 110.0, 100.0, 240.0, 750.0, 416.667, 1800.0,\n",
       "       135.0, 325.0, 737.5, 775.0, 920.0, 776.6669999999999, 247.5, 150.0,\n",
       "       765.0, 87.5, 1925.5710000000001, 190.0, 68.0, 1050.0, 200.0, 190.0,\n",
       "       95.0, 70.0, 385.0, 175.0, 700.0, 75.0, 430.0, 165.0, 1300.0, 145.0,\n",
       "       215.0, 260.0, 450.0, 1260.0, 1175.0, 431.5, 250.0, 250.0, 400.0,\n",
       "       425.0, 67.5, 340.0, 708.3330000000001, 325.0, 640.0, 115.0, 700.0,\n",
       "       733.3330000000001, 773.3330000000001, 250.0, 275.0, 475.0, 180.0,\n",
       "       1237.5, 400.0, 1100.0, 675.0, 230.0, 90.0, 297.5, 145.0, 815.0,\n",
       "       350.0, 450.0, 1008.3330000000001, 487.5, 275.0, 200.0, 100.0,\n",
       "       1975.0, 320.0, 305.0, 225.0, 350.0, 575.0, 737.5, 850.0, 165.0,\n",
       "       215.0, 100.0, 155.0, 600.0, 535.0, 950.0, 750.0, 160.0, 850.0,\n",
       "       600.0, 512.5, 900.0, 1450.0, 90.0, 140.0, 365.0, 600.0, 300.0,\n",
       "       100.0, 800.0, 425.0, 175.0, 630.0, 1041.667, 191.0, 650.0, 250.0,\n",
       "       700.0, 70.0, 75.0, 490.0, 300.0, 750.0, 140.0, 525.0, 535.0, 960.0,\n",
       "       950.0, 700.0, 300.0, 1200.0, 275.0, 100.0, 210.0, 550.0, 195.0,\n",
       "       175.0, 135.0, 300.0, 480.0, 740.0, 2412.5, 245.0, 740.0, 940.0,\n",
       "       1600.0, 450.0, 1861.46, 1940.0], dtype=object)"
      ]
     },
     "execution_count": 5,
     "metadata": {},
     "output_type": "execute_result"
    }
   ],
   "source": [
    "y"
   ]
  },
  {
   "cell_type": "code",
   "execution_count": 6,
   "metadata": {},
   "outputs": [
    {
     "data": {
      "text/plain": [
       "DecisionTreeRegressor(max_depth=2)"
      ]
     },
     "execution_count": 6,
     "metadata": {},
     "output_type": "execute_result"
    }
   ],
   "source": [
    "from sklearn.tree import DecisionTreeRegressor\n",
    "tree_reg = DecisionTreeRegressor(max_depth=2)\n",
    "tree_reg.fit(X, y)"
   ]
  },
  {
   "cell_type": "code",
   "execution_count": 7,
   "metadata": {},
   "outputs": [
    {
     "data": {
      "text/plain": [
       "0.5052302826383642"
      ]
     },
     "execution_count": 7,
     "metadata": {},
     "output_type": "execute_result"
    }
   ],
   "source": [
    "tree_reg.score(X, y)"
   ]
  },
  {
   "cell_type": "markdown",
   "metadata": {},
   "source": [
    "## 시각화"
   ]
  },
  {
   "cell_type": "code",
   "execution_count": 8,
   "metadata": {},
   "outputs": [
    {
     "data": {
      "image/png": "[encoded data removed]",
      "text/plain": [
       "<Figure size 900x900 with 1 Axes>"
      ]
     },
     "metadata": {
      "needs_background": "light"
     },
     "output_type": "display_data"
    }
   ],
   "source": [
    "from sklearn import tree\n",
    "import matplotlib.pyplot as plt\n",
    "\n",
    "fig, axes = plt.subplots(nrows = 1,ncols = 1,figsize = (3,3), dpi=300)\n",
    "tree.plot_tree(tree_reg)\n",
    "plt.show()\n",
    "fig.savefig('tree_reg.png')"
   ]
  },
  {
   "cell_type": "code",
   "execution_count": null,
   "metadata": {},
   "outputs": [],
   "source": []
  }
 ],
 "metadata": {
  "kernelspec": {
   "display_name": "Python 3 (ipykernel)",
   "language": "python",
   "name": "python3"
  },
  "language_info": {
   "codemirror_mode": {
    "name": "ipython",
    "version": 3
   },
   "file_extension": ".py",
   "mimetype": "text/x-python",
   "name": "python",
   "nbconvert_exporter": "python",
   "pygments_lexer": "ipython3",
   "version": "3.8.5"
  }
 },
 "nbformat": 4,
 "nbformat_minor": 2
}
